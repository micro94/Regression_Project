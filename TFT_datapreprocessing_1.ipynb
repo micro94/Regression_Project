{
 "cells": [
  {
   "cell_type": "code",
   "execution_count": 1,
   "metadata": {},
   "outputs": [],
   "source": [
    "# 각 데이터셋 호출\n",
    "df_challenger = pd.read_csv(\"tft-match-data\\\\TFT_Challenger_MatchData.csv\")\n",
    "df_grandmaster = pd.read_csv(\"tft-match-data\\\\TFT_Grandmaster_MatchData.csv\")\n",
    "df_master = pd.read_csv(\"tft-match-data\\\\TFT_Master_MatchData.csv\")\n",
    "df_diamond = pd.read_csv(\"tft-match-data\\\\TFT_Diamond_MatchData.csv\")\n",
    "df_platinum = pd.read_csv(\"tft-match-data\\\\TFT_Platinum_MatchData.csv\")"
   ]
  },
  {
   "cell_type": "code",
   "execution_count": null,
   "metadata": {},
   "outputs": [],
   "source": []
  }
 ],
 "metadata": {
  "kernelspec": {
   "display_name": "Python 3",
   "language": "python",
   "name": "python3"
  },
  "language_info": {
   "codemirror_mode": {
    "name": "ipython",
    "version": 3
   },
   "file_extension": ".py",
   "mimetype": "text/x-python",
   "name": "python",
   "nbconvert_exporter": "python",
   "pygments_lexer": "ipython3",
   "version": "3.7.6"
  }
 },
 "nbformat": 4,
 "nbformat_minor": 4
}
